{
    "cells": [
        {
            "metadata": {},
            "cell_type": "code",
            "source": "!pip list",
            "execution_count": 1,
            "outputs": [
                {
                    "output_type": "stream",
                    "text": "Package                     Version\r\n--------------------------- -------------------\r\nabsl-py                     0.9.0\r\naiohttp                     3.6.2\r\narcgis                      1.6.0\r\nastor                       0.8.0\r\nastropy                     4.0.1.post1\r\nasync-timeout               3.0.1\r\nattrs                       19.3.0\r\nazure-core                  1.8.0\r\nazure-cosmos                4.1.0\r\nbackcall                    0.2.0\r\nbeautifulsoup4              4.9.1\r\nbiopython                   1.77\r\nbleach                      3.1.5\r\nblinker                     1.4\r\nbokeh                       2.1.1\r\nboto3                       1.13.11\r\nbotocore                    1.16.11\r\nbrotlipy                    0.7.0\r\nca-data-connector           11.2.0\r\ncachetools                  4.1.1\r\ncassandra-driver            3.24.0\r\ncertifi                     2020.12.5\r\ncffi                        1.14.0\r\nchardet                     3.0.4\r\nclick                       7.1.2\r\ncloudpickle                 1.5.0\r\ncplex                       12.10.0.1\r\ncryptography                3.2.1\r\ncx-Oracle                   7.2.3\r\ncycler                      0.10.0\r\ncytoolz                     0.10.1\r\ndask                        2.20.0\r\ndecorator                   4.4.2\r\ndefusedxml                  0.6.0\r\ndill                        0.3.0\r\ndocloud                     1.0.375\r\ndocplex                     2.14.186\r\ndocutils                    0.15.2\r\nentrypoints                 0.3\r\nfastcache                   1.1.0\r\nfuture                      0.18.2\r\ngast                        0.2.2\r\ngeographiclib               1.50\r\ngeomet                      0.2.1.post1\r\ngeopy                       2.0.0\r\ngoogle-auth                 1.22.0\r\ngoogle-auth-oauthlib        0.4.1\r\ngoogle-pasta                0.2.0\r\ngrpcio                      1.27.2\r\nh5py                        2.10.0\r\nhtml5lib                    1.1\r\nibm-ai-openscale            2.2.1\r\nibm-cloud-sdk-core          3.2.0\r\nibm-cos-sdk                 2.7.0\r\nibm-cos-sdk-core            2.7.0\r\nibm-cos-sdk-s3transfer      2.7.0\r\nibm-db                      3.0.2\r\nibm-db-sa                   0.3.5\r\nibm-watson-machine-learning 1.0.53\r\nibm-watson-openscale        3.0.1\r\nibmdbpy                     0.1.6\r\nidna                        2.9\r\nimageio                     2.9.0\r\nimportlib-metadata          1.6.1\r\nipykernel                   5.3.0\r\nipython                     7.15.0\r\nipython-genutils            0.2.0\r\nipywidgets                  7.5.1\r\nJayDeBeApi                  1.2.3\r\njedi                        0.17.1\r\njeepney                     0.4\r\nJinja2                      2.11.2\r\njmespath                    0.9.4\r\njoblib                      0.16.0\r\nJPype1                      0.6.3\r\njson5                       0.9.5\r\njsonschema                  3.2.0\r\njupyter-client              6.1.3\r\njupyter-core                4.6.3\r\njupyterlab                  2.2.6\r\njupyterlab-server           1.1.0\r\nKeras-Applications          1.0.8\r\nKeras-Preprocessing         1.1.0\r\nkeyring                     18.0.0\r\nkiwisolver                  1.2.0\r\nlazy                        1.4\r\nlomond                      0.3.3\r\nlxml                        4.5.1\r\nMarkdown                    3.1.1\r\nMarkupSafe                  1.1.1\r\nmatplotlib                  3.2.2\r\nmistune                     0.8.4\r\nmkl-fft                     1.1.0\r\nmkl-random                  1.1.1\r\nmkl-service                 2.3.0\r\nmock                        4.0.2\r\nmore-itertools              8.4.0\r\nmpmath                      1.1.0\r\nmultidict                   4.7.6\r\nmysql-connector-python      8.0.21\r\nnbconvert                   5.6.1\r\nnbformat                    5.0.7\r\nnetworkx                    2.4\r\nnltk                        3.5\r\nnotebook                    6.0.3\r\nnumexpr                     2.7.1\r\nnumpy                       1.18.5\r\noauthlib                    3.1.0\r\nolefile                     0.46\r\nopt-einsum                  3.1.0\r\npackaging                   20.4\r\npandas                      1.0.5\r\npandocfilters               1.4.2\r\nparso                       0.7.0\r\npatsy                       0.5.1\r\npexpect                     4.8.0\r\npickleshare                 0.7.5\r\nPillow                      7.2.0\r\npip                         20.1.1\r\nplotly                      4.8.2\r\npluggy                      0.13.1\r\nproject-lib                 2.0.3\r\nprometheus-client           0.8.0\r\nprompt-toolkit              3.0.5\r\nprotobuf                    3.12.3\r\npsycopg2                    2.8.5\r\nptyprocess                  0.6.0\r\npy                          1.8.2\r\npyasn1                      0.4.8\r\npyasn1-modules              0.2.8\r\npycparser                   2.20\r\nPygments                    2.6.1\r\nPyJWT                       1.7.1\r\npymssql                     2.1.5\r\npyodbc                      4.0.0-unsupported\r\npyOpenSSL                   19.1.0\r\npyparsing                   2.4.7\r\npypyodbc                    1.3.4\r\npyrsistent                  0.16.0\r\npyshp                       2.1.0\r\nPySocks                     1.7.1\r\npytest                      5.4.3\r\npython-dateutil             2.8.1\r\npytz                        2020.1\r\nPyWavelets                  1.1.1\r\nPyYAML                      5.3.1\r\npyzmq                       19.0.1\r\nregex                       2020.6.8\r\nrequests                    2.24.0\r\nrequests-oauthlib           1.3.0\r\nretrying                    1.3.3\r\nrsa                         4.6\r\ns3transfer                  0.3.3\r\nscikit-image                0.16.2\r\nscikit-learn                0.23.1\r\nscipy                       1.5.0\r\nseaborn                     0.10.1\r\nSecretStorage               3.1.0\r\nSend2Trash                  1.5.0\r\nsetuptools                  47.3.1.post20200622\r\nsix                         1.15.0\r\nsnowballstemmer             2.0.0\r\nsoupsieve                   2.0.1\r\nSQLAlchemy                  1.3.17\r\nstatsmodels                 0.11.1\r\nstreamsx                    1.15.6\r\nsympy                       1.6.2\r\ntables                      3.6.1\r\ntabulate                    0.8.3\r\ntensorboard                 2.1.0\r\ntensorflow                  2.1.0\r\ntensorflow-estimator        2.1.0\r\ntermcolor                   1.1.0\r\nterminado                   0.8.3\r\ntestpath                    0.4.4\r\nthreadpoolctl               2.1.0\r\ntoolz                       0.10.0\r\ntorch                       1.3.1\r\ntornado                     6.0.4\r\ntqdm                        4.47.0\r\ntraitlets                   4.3.3\r\ntyping-extensions           3.7.4.2\r\nurllib3                     1.25.9\r\nwcwidth                     0.2.4\r\nwebencodings                0.5.1\r\nWerkzeug                    1.0.1\r\nwheel                       0.34.2\r\nwidgetsnbextension          3.5.1\r\nwrapt                       1.12.1\r\nxgboost                     0.90\r\nxlrd                        1.2.0\r\nXlsxWriter                  1.2.9\r\nyarl                        1.5.1\r\nzipp                        3.1.0\r\n",
                    "name": "stdout"
                }
            ]
        },
        {
            "metadata": {},
            "cell_type": "code",
            "source": "import tensorflow as tf",
            "execution_count": 2,
            "outputs": []
        },
        {
            "metadata": {},
            "cell_type": "code",
            "source": "print(tf.__version__)",
            "execution_count": 3,
            "outputs": [
                {
                    "output_type": "stream",
                    "text": "2.1.0\n",
                    "name": "stdout"
                }
            ]
        },
        {
            "metadata": {},
            "cell_type": "code",
            "source": "",
            "execution_count": null,
            "outputs": []
        }
    ],
    "metadata": {
        "kernelspec": {
            "name": "python3",
            "display_name": "Python 3.7",
            "language": "python"
        },
        "language_info": {
            "name": "python",
            "version": "3.7.10",
            "mimetype": "text/x-python",
            "codemirror_mode": {
                "name": "ipython",
                "version": 3
            },
            "pygments_lexer": "ipython3",
            "nbconvert_exporter": "python",
            "file_extension": ".py"
        }
    },
    "nbformat": 4,
    "nbformat_minor": 1
}