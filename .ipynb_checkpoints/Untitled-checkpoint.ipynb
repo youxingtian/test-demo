{
 "cells": [
  {
   "cell_type": "code",
   "execution_count": 1,
   "id": "graduate-contemporary",
   "metadata": {},
   "outputs": [
    {
     "name": "stdout",
     "output_type": "stream",
     "text": [
      "Collecting alibi\n",
      "  Downloading alibi-0.5.6-py3-none-any.whl (232 kB)\n",
      "\u001b[K     |████████████████████████████████| 232 kB 4.0 MB/s eta 0:00:01\n",
      "\u001b[?25hCollecting scikit-image!=0.17.1,<0.19,>=0.14.2\n",
      "  Downloading scikit_image-0.18.1-cp37-cp37m-manylinux1_x86_64.whl (29.2 MB)\n",
      "\u001b[K     |████████████████████████████████| 29.2 MB 10.7 MB/s eta 0:00:01   |██▌                             | 2.3 MB 3.9 MB/s eta 0:00:07     |████                            | 3.7 MB 3.9 MB/s eta 0:00:07     |█████▏                          | 4.7 MB 3.9 MB/s eta 0:00:07     |████████████▍                   | 11.3 MB 3.9 MB/s eta 0:00:05     |████████████████▏               | 14.7 MB 3.9 MB/s eta 0:00:04     |█████████████████▍              | 15.9 MB 3.9 MB/s eta 0:00:04     |██████████████████████          | 20.0 MB 10.7 MB/s eta 0:00:01     |█████████████████████████████▏  | 26.6 MB 10.7 MB/s eta 0:00:01     |██████████████████████████████▍ | 27.7 MB 10.7 MB/s eta 0:00:01     |███████████████████████████████▍| 28.6 MB 10.7 MB/s eta 0:00:01\n",
      "\u001b[?25hRequirement already satisfied: scipy<2.0.0,>=1.1.0 in /opt/conda/lib/python3.7/site-packages (from alibi) (1.6.0)\n",
      "Requirement already satisfied: requests<3.0.0,>=2.21.0 in /opt/conda/lib/python3.7/site-packages (from alibi) (2.25.1)\n",
      "Requirement already satisfied: Pillow<9.0,>=5.4.1 in /opt/conda/lib/python3.7/site-packages (from alibi) (8.1.0)\n",
      "Collecting beautifulsoup4<5.0.0,>=4.7.1\n",
      "  Downloading beautifulsoup4-4.9.3-py3-none-any.whl (115 kB)\n",
      "\u001b[K     |████████████████████████████████| 115 kB 31.8 MB/s eta 0:00:01\n",
      "\u001b[?25hCollecting shap!=0.38.1,<0.39.0,>=0.36.0\n",
      "  Downloading shap-0.37.0.tar.gz (326 kB)\n",
      "\u001b[K     |████████████████████████████████| 326 kB 31.8 MB/s eta 0:00:01\n",
      "\u001b[?25hRequirement already satisfied: typing-extensions>=3.7.2 in /opt/conda/lib/python3.7/site-packages (from alibi) (3.7.4.3)\n",
      "Requirement already satisfied: matplotlib<4.0.0,>=3.0.0 in /opt/conda/lib/python3.7/site-packages (from alibi) (3.3.4)\n",
      "Requirement already satisfied: tensorflow<2.5.0,>=2.0.0 in /opt/conda/lib/python3.7/site-packages (from alibi) (2.1.3)\n",
      "Requirement already satisfied: numpy<2.0.0,>=1.16.2 in /opt/conda/lib/python3.7/site-packages (from alibi) (1.19.5)\n",
      "Requirement already satisfied: pandas<2.0.0,>=0.23.3 in /opt/conda/lib/python3.7/site-packages (from alibi) (1.2.2)\n",
      "Requirement already satisfied: attrs<21.0.0,>=19.2.0 in /opt/conda/lib/python3.7/site-packages (from alibi) (20.3.0)\n",
      "Requirement already satisfied: scikit-learn<0.25.0,>=0.20.2 in /opt/conda/lib/python3.7/site-packages (from alibi) (0.24.1)\n",
      "Collecting spacy[lookups]<4.0.0,>=2.0.0\n",
      "  Downloading spacy-3.0.3-cp37-cp37m-manylinux2014_x86_64.whl (12.7 MB)\n",
      "\u001b[K     |████████████████████████████████| 12.7 MB 10.0 MB/s eta 0:00:01   |▏                               | 71 kB 29.8 MB/s eta 0:00:01     |█████████                       | 3.6 MB 10.0 MB/s eta 0:00:01     |█████████████████████████       | 10.0 MB 10.0 MB/s eta 0:00:01     |███████████████████████████████ | 12.4 MB 10.0 MB/s eta 0:00:01\n",
      "\u001b[?25hCollecting soupsieve>1.2\n",
      "  Downloading soupsieve-2.2-py3-none-any.whl (33 kB)\n",
      "Requirement already satisfied: pyparsing!=2.0.4,!=2.1.2,!=2.1.6,>=2.0.3 in /opt/conda/lib/python3.7/site-packages (from matplotlib<4.0.0,>=3.0.0->alibi) (2.4.7)\n",
      "Requirement already satisfied: python-dateutil>=2.1 in /opt/conda/lib/python3.7/site-packages (from matplotlib<4.0.0,>=3.0.0->alibi) (2.8.1)\n",
      "Requirement already satisfied: cycler>=0.10 in /opt/conda/lib/python3.7/site-packages (from matplotlib<4.0.0,>=3.0.0->alibi) (0.10.0)\n",
      "Requirement already satisfied: kiwisolver>=1.0.1 in /opt/conda/lib/python3.7/site-packages (from matplotlib<4.0.0,>=3.0.0->alibi) (1.3.1)\n",
      "Requirement already satisfied: six in /opt/conda/lib/python3.7/site-packages (from cycler>=0.10->matplotlib<4.0.0,>=3.0.0->alibi) (1.15.0)\n",
      "Requirement already satisfied: pytz>=2017.3 in /opt/conda/lib/python3.7/site-packages (from pandas<2.0.0,>=0.23.3->alibi) (2021.1)\n",
      "Requirement already satisfied: chardet<5,>=3.0.2 in /opt/conda/lib/python3.7/site-packages (from requests<3.0.0,>=2.21.0->alibi) (4.0.0)\n",
      "Requirement already satisfied: idna<3,>=2.5 in /opt/conda/lib/python3.7/site-packages (from requests<3.0.0,>=2.21.0->alibi) (2.10)\n",
      "Requirement already satisfied: urllib3<1.27,>=1.21.1 in /opt/conda/lib/python3.7/site-packages (from requests<3.0.0,>=2.21.0->alibi) (1.26.3)\n",
      "Requirement already satisfied: certifi>=2017.4.17 in /opt/conda/lib/python3.7/site-packages (from requests<3.0.0,>=2.21.0->alibi) (2020.12.5)\n",
      "Requirement already satisfied: PyWavelets>=1.1.1 in /opt/conda/lib/python3.7/site-packages (from scikit-image!=0.17.1,<0.19,>=0.14.2->alibi) (1.1.1)\n",
      "Requirement already satisfied: networkx>=2.0 in /opt/conda/lib/python3.7/site-packages (from scikit-image!=0.17.1,<0.19,>=0.14.2->alibi) (2.5)\n",
      "Collecting imageio>=2.3.0\n",
      "  Downloading imageio-2.9.0-py3-none-any.whl (3.3 MB)\n",
      "\u001b[K     |████████████████████████████████| 3.3 MB 30.8 MB/s eta 0:00:01\n",
      "\u001b[?25hCollecting tifffile>=2019.7.26\n",
      "  Downloading tifffile-2021.2.26-py3-none-any.whl (160 kB)\n",
      "\u001b[K     |████████████████████████████████| 160 kB 36.9 MB/s eta 0:00:01\n",
      "\u001b[?25hRequirement already satisfied: decorator>=4.3.0 in /opt/conda/lib/python3.7/site-packages (from networkx>=2.0->scikit-image!=0.17.1,<0.19,>=0.14.2->alibi) (4.4.2)\n",
      "Requirement already satisfied: joblib>=0.11 in /opt/conda/lib/python3.7/site-packages (from scikit-learn<0.25.0,>=0.20.2->alibi) (1.0.1)\n",
      "Requirement already satisfied: threadpoolctl>=2.0.0 in /opt/conda/lib/python3.7/site-packages (from scikit-learn<0.25.0,>=0.20.2->alibi) (2.1.0)\n",
      "Requirement already satisfied: tqdm>4.25.0 in /opt/conda/lib/python3.7/site-packages (from shap!=0.38.1,<0.39.0,>=0.36.0->alibi) (4.56.2)\n",
      "Collecting slicer==0.0.3\n",
      "  Downloading slicer-0.0.3-py3-none-any.whl (11 kB)\n",
      "Requirement already satisfied: numba in /opt/conda/lib/python3.7/site-packages (from shap!=0.38.1,<0.39.0,>=0.36.0->alibi) (0.52.0)\n",
      "Collecting catalogue<2.1.0,>=2.0.1\n",
      "  Downloading catalogue-2.0.1-py3-none-any.whl (9.6 kB)\n",
      "Collecting cymem<2.1.0,>=2.0.2\n",
      "  Downloading cymem-2.0.5-cp37-cp37m-manylinux2014_x86_64.whl (35 kB)\n",
      "Collecting srsly<3.0.0,>=2.4.0\n",
      "  Downloading srsly-2.4.0-cp37-cp37m-manylinux2014_x86_64.whl (456 kB)\n",
      "\u001b[K     |████████████████████████████████| 456 kB 6.9 MB/s eta 0:00:01\n",
      "\u001b[?25hCollecting pathy\n",
      "  Downloading pathy-0.4.0-py3-none-any.whl (36 kB)\n",
      "Requirement already satisfied: packaging>=20.0 in /opt/conda/lib/python3.7/site-packages (from spacy[lookups]<4.0.0,>=2.0.0->alibi) (20.9)\n",
      "Collecting thinc<8.1.0,>=8.0.0\n",
      "  Downloading thinc-8.0.1-cp37-cp37m-manylinux2014_x86_64.whl (1.1 MB)\n",
      "\u001b[K     |████████████████████████████████| 1.1 MB 23.8 MB/s eta 0:00:01\n",
      "\u001b[?25hRequirement already satisfied: setuptools in /opt/conda/lib/python3.7/site-packages (from spacy[lookups]<4.0.0,>=2.0.0->alibi) (53.0.0)\n",
      "Collecting pydantic<1.8.0,>=1.7.1\n",
      "  Downloading pydantic-1.7.3-cp37-cp37m-manylinux2014_x86_64.whl (9.1 MB)\n",
      "\u001b[K     |████████████████████████████████| 9.1 MB 7.9 MB/s eta 0:00:01     |█████                           | 1.4 MB 7.9 MB/s eta 0:00:01     |██████████▋                     | 3.0 MB 7.9 MB/s eta 0:00:01     |███████████████████████████████▍| 8.9 MB 7.9 MB/s eta 0:00:01\n",
      "\u001b[?25hCollecting preshed<3.1.0,>=3.0.2\n",
      "  Downloading preshed-3.0.5-cp37-cp37m-manylinux2014_x86_64.whl (126 kB)\n",
      "\u001b[K     |████████████████████████████████| 126 kB 36.0 MB/s eta 0:00:01\n",
      "\u001b[?25hCollecting murmurhash<1.1.0,>=0.28.0\n",
      "  Downloading murmurhash-1.0.5-cp37-cp37m-manylinux2014_x86_64.whl (20 kB)\n",
      "Collecting wasabi<1.1.0,>=0.8.1\n",
      "  Downloading wasabi-0.8.2-py3-none-any.whl (23 kB)\n",
      "Requirement already satisfied: jinja2 in /opt/conda/lib/python3.7/site-packages (from spacy[lookups]<4.0.0,>=2.0.0->alibi) (2.11.3)\n",
      "Collecting spacy-legacy<3.1.0,>=3.0.0\n",
      "  Downloading spacy_legacy-3.0.1-py2.py3-none-any.whl (7.0 kB)\n",
      "Collecting blis<0.8.0,>=0.4.0\n",
      "  Downloading blis-0.7.4-cp37-cp37m-manylinux2014_x86_64.whl (9.8 MB)\n",
      "\u001b[K     |████████████████████████████████| 9.8 MB 13.2 MB/s eta 0:00:01     |████▏                           | 1.3 MB 13.2 MB/s eta 0:00:01\n",
      "\u001b[?25hCollecting typer<0.4.0,>=0.3.0\n",
      "  Downloading typer-0.3.2-py3-none-any.whl (21 kB)\n",
      "Requirement already satisfied: importlib-metadata>=0.20 in /opt/conda/lib/python3.7/site-packages (from spacy[lookups]<4.0.0,>=2.0.0->alibi) (3.4.0)\n",
      "Collecting spacy-lookups-data<1.1.0,>=1.0.0\n",
      "  Downloading spacy_lookups_data-1.0.0-py2.py3-none-any.whl (93.4 MB)\n",
      "\u001b[K     |████████████████████████████████| 93.4 MB 21 kB/s s eta 0:00:01     |█████████████▋                  | 39.9 MB 29.7 MB/s eta 0:00:02     |██████████████▋                 | 42.6 MB 40.2 MB/s eta 0:00:02     |███████████████████▎            | 56.3 MB 40.2 MB/s eta 0:00:01     |█████████████████████           | 61.3 MB 40.2 MB/s eta 0:00:01     |█████████████████████▏          | 61.7 MB 7.0 MB/s eta 0:00:05     |████████████████████████▉       | 72.3 MB 7.0 MB/s eta 0:00:03     |█████████████████████████▌      | 74.5 MB 7.0 MB/s eta 0:00:03     |██████████████████████████      | 75.6 MB 7.0 MB/s eta 0:00:03     |█████████████████████████████   | 84.6 MB 11.5 MB/s eta 0:00:01     |██████████████████████████████▌ | 88.8 MB 11.5 MB/s eta 0:00:01     |██████████████████████████████▉ | 89.9 MB 11.5 MB/s eta 0:00:01     |████████████████████████████████| 93.0 MB 11.5 MB/s eta 0:00:01\n",
      "\u001b[?25hRequirement already satisfied: zipp>=0.5 in /opt/conda/lib/python3.7/site-packages (from importlib-metadata>=0.20->spacy[lookups]<4.0.0,>=2.0.0->alibi) (3.4.0)\n",
      "Requirement already satisfied: protobuf>=3.8.0 in /opt/conda/lib/python3.7/site-packages (from tensorflow<2.5.0,>=2.0.0->alibi) (3.14.0)\n",
      "Requirement already satisfied: keras-applications>=1.0.8 in /opt/conda/lib/python3.7/site-packages (from tensorflow<2.5.0,>=2.0.0->alibi) (1.0.8)\n",
      "Requirement already satisfied: grpcio>=1.8.6 in /opt/conda/lib/python3.7/site-packages (from tensorflow<2.5.0,>=2.0.0->alibi) (1.35.0)\n",
      "Requirement already satisfied: wrapt>=1.11.1 in /opt/conda/lib/python3.7/site-packages (from tensorflow<2.5.0,>=2.0.0->alibi) (1.12.1)\n",
      "Requirement already satisfied: gast==0.2.2 in /opt/conda/lib/python3.7/site-packages (from tensorflow<2.5.0,>=2.0.0->alibi) (0.2.2)\n",
      "Requirement already satisfied: opt-einsum>=2.3.2 in /opt/conda/lib/python3.7/site-packages (from tensorflow<2.5.0,>=2.0.0->alibi) (3.3.0)\n",
      "Requirement already satisfied: termcolor>=1.1.0 in /opt/conda/lib/python3.7/site-packages (from tensorflow<2.5.0,>=2.0.0->alibi) (1.1.0)\n",
      "Requirement already satisfied: keras-preprocessing==1.1.0 in /opt/conda/lib/python3.7/site-packages (from tensorflow<2.5.0,>=2.0.0->alibi) (1.1.0)\n",
      "Requirement already satisfied: astor>=0.6.0 in /opt/conda/lib/python3.7/site-packages (from tensorflow<2.5.0,>=2.0.0->alibi) (0.8.1)\n",
      "Requirement already satisfied: absl-py>=0.7.0 in /opt/conda/lib/python3.7/site-packages (from tensorflow<2.5.0,>=2.0.0->alibi) (0.8.1)\n",
      "Requirement already satisfied: tensorflow-estimator<2.2.0,>=2.1.0rc0 in /opt/conda/lib/python3.7/site-packages (from tensorflow<2.5.0,>=2.0.0->alibi) (2.1.0)\n",
      "Requirement already satisfied: h5py<=2.10.0 in /opt/conda/lib/python3.7/site-packages (from tensorflow<2.5.0,>=2.0.0->alibi) (2.10.0)\n",
      "Requirement already satisfied: tensorboard<2.2.0,>=2.1.0 in /opt/conda/lib/python3.7/site-packages (from tensorflow<2.5.0,>=2.0.0->alibi) (2.1.1)\n",
      "Requirement already satisfied: google-pasta>=0.1.6 in /opt/conda/lib/python3.7/site-packages (from tensorflow<2.5.0,>=2.0.0->alibi) (0.2.0)\n",
      "Collecting numpy<2.0.0,>=1.16.2\n",
      "  Downloading numpy-1.18.5-cp37-cp37m-manylinux1_x86_64.whl (20.1 MB)\n",
      "\u001b[K     |████████████████████████████████| 20.1 MB 42.2 MB/s eta 0:00:01    |█                               | 675 kB 11.5 MB/s eta 0:00:02     |█████                           | 3.2 MB 11.5 MB/s eta 0:00:02     |██████████▋                     | 6.7 MB 11.5 MB/s eta 0:00:02     |█████████████████               | 10.7 MB 11.5 MB/s eta 0:00:01     |███████████████████████▋        | 14.8 MB 11.5 MB/s eta 0:00:01     |█████████████████████████▋      | 16.1 MB 11.5 MB/s eta 0:00:01     |███████████████████████████▌    | 17.3 MB 11.5 MB/s eta 0:00:01\n",
      "\u001b[?25hRequirement already satisfied: wheel>=0.26 in /opt/conda/lib/python3.7/site-packages (from tensorflow<2.5.0,>=2.0.0->alibi) (0.36.2)\n",
      "Requirement already satisfied: google-auth<2,>=1.6.3 in /opt/conda/lib/python3.7/site-packages (from tensorboard<2.2.0,>=2.1.0->tensorflow<2.5.0,>=2.0.0->alibi) (1.26.1)\n",
      "Requirement already satisfied: werkzeug>=0.11.15 in /opt/conda/lib/python3.7/site-packages (from tensorboard<2.2.0,>=2.1.0->tensorflow<2.5.0,>=2.0.0->alibi) (1.0.1)\n",
      "Requirement already satisfied: google-auth-oauthlib<0.5,>=0.4.1 in /opt/conda/lib/python3.7/site-packages (from tensorboard<2.2.0,>=2.1.0->tensorflow<2.5.0,>=2.0.0->alibi) (0.4.2)\n",
      "Requirement already satisfied: markdown>=2.6.8 in /opt/conda/lib/python3.7/site-packages (from tensorboard<2.2.0,>=2.1.0->tensorflow<2.5.0,>=2.0.0->alibi) (3.3.3)\n",
      "Requirement already satisfied: cachetools<5.0,>=2.0.0 in /opt/conda/lib/python3.7/site-packages (from google-auth<2,>=1.6.3->tensorboard<2.2.0,>=2.1.0->tensorflow<2.5.0,>=2.0.0->alibi) (4.2.1)\n",
      "Requirement already satisfied: rsa<5,>=3.1.4 in /opt/conda/lib/python3.7/site-packages (from google-auth<2,>=1.6.3->tensorboard<2.2.0,>=2.1.0->tensorflow<2.5.0,>=2.0.0->alibi) (4.7)\n",
      "Requirement already satisfied: pyasn1-modules>=0.2.1 in /opt/conda/lib/python3.7/site-packages (from google-auth<2,>=1.6.3->tensorboard<2.2.0,>=2.1.0->tensorflow<2.5.0,>=2.0.0->alibi) (0.2.8)\n",
      "Requirement already satisfied: requests-oauthlib>=0.7.0 in /opt/conda/lib/python3.7/site-packages (from google-auth-oauthlib<0.5,>=0.4.1->tensorboard<2.2.0,>=2.1.0->tensorflow<2.5.0,>=2.0.0->alibi) (1.3.0)\n",
      "Requirement already satisfied: pyasn1<0.5.0,>=0.4.6 in /opt/conda/lib/python3.7/site-packages (from pyasn1-modules>=0.2.1->google-auth<2,>=1.6.3->tensorboard<2.2.0,>=2.1.0->tensorflow<2.5.0,>=2.0.0->alibi) (0.4.8)\n",
      "Requirement already satisfied: oauthlib>=3.0.0 in /opt/conda/lib/python3.7/site-packages (from requests-oauthlib>=0.7.0->google-auth-oauthlib<0.5,>=0.4.1->tensorboard<2.2.0,>=2.1.0->tensorflow<2.5.0,>=2.0.0->alibi) (3.1.0)\n",
      "Requirement already satisfied: click<7.2.0,>=7.1.1 in /opt/conda/lib/python3.7/site-packages (from typer<0.4.0,>=0.3.0->spacy[lookups]<4.0.0,>=2.0.0->alibi) (7.1.2)\n",
      "Requirement already satisfied: MarkupSafe>=0.23 in /opt/conda/lib/python3.7/site-packages (from jinja2->spacy[lookups]<4.0.0,>=2.0.0->alibi) (1.1.1)\n",
      "Requirement already satisfied: llvmlite<0.36,>=0.35.0 in /opt/conda/lib/python3.7/site-packages (from numba->shap!=0.38.1,<0.39.0,>=0.36.0->alibi) (0.35.0)\n",
      "Collecting smart-open<4.0.0,>=2.2.0\n",
      "  Downloading smart_open-3.0.0.tar.gz (113 kB)\n",
      "\u001b[K     |████████████████████████████████| 113 kB 30.6 MB/s eta 0:00:01\n",
      "\u001b[?25hBuilding wheels for collected packages: shap, smart-open\n",
      "  Building wheel for shap (setup.py) ... \u001b[?25ldone\n",
      "\u001b[?25h  Created wheel for shap: filename=shap-0.37.0-cp37-cp37m-linux_x86_64.whl size=521999 sha256=8145c4feabda737e823488c93297019b6a86a61ca2148c64697dac11fd21adc4\n",
      "  Stored in directory: /home/jupyter/.cache/pip/wheels/df/b8/18/2c0a6105152e62dd9a7cf47b5110b9cedb0c8739babdef64b7\n",
      "  Building wheel for smart-open (setup.py) ... \u001b[?25ldone\n",
      "\u001b[?25h  Created wheel for smart-open: filename=smart_open-3.0.0-py3-none-any.whl size=107097 sha256=90975f4e74b9f0f559e1f5cf38c52c64425e660ba2a8eac2d25d925c8dba711f\n",
      "  Stored in directory: /home/jupyter/.cache/pip/wheels/83/a6/12/bf3c1a667bde4251be5b7a3368b2d604c9af2105b5c1cb1870\n",
      "Successfully built shap smart-open\n",
      "Installing collected packages: numpy, murmurhash, cymem, catalogue, wasabi, typer, srsly, smart-open, pydantic, preshed, blis, thinc, spacy-legacy, pathy, tifffile, spacy-lookups-data, spacy, soupsieve, slicer, imageio, shap, scikit-image, beautifulsoup4, alibi\n",
      "  Attempting uninstall: numpy\n",
      "    Found existing installation: numpy 1.19.5\n",
      "    Uninstalling numpy-1.19.5:\n",
      "      Successfully uninstalled numpy-1.19.5\n",
      "\u001b[31mERROR: pip's dependency resolver does not currently take into account all the packages that are installed. This behaviour is the source of the following dependency conflicts.\n",
      "tfx-bsl 0.21.4 requires pyarrow<0.16.0,>=0.15.0, but you have pyarrow 3.0.0 which is incompatible.\n",
      "tensorflow-model-analysis 0.21.6 requires pyarrow<1,>=0.15, but you have pyarrow 3.0.0 which is incompatible.\n",
      "tensorflow-model-analysis 0.21.6 requires scipy==1.4.1; python_version >= \"3\", but you have scipy 1.6.0 which is incompatible.\n",
      "tensorflow-io 0.11.0 requires tensorflow==2.1.0, but you have tensorflow 2.1.3 which is incompatible.\n",
      "tensorflow-data-validation 0.21.5 requires joblib<0.15,>=0.12, but you have joblib 1.0.1 which is incompatible.\n",
      "tensorflow-data-validation 0.21.5 requires pandas<1,>=0.24, but you have pandas 1.2.2 which is incompatible.\n",
      "tensorflow-data-validation 0.21.5 requires scikit-learn<0.22,>=0.18, but you have scikit-learn 0.24.1 which is incompatible.\n",
      "pandas-profiling 2.8.0 requires visions[type_image_path]==0.4.4, but you have visions 0.7.1 which is incompatible.\n",
      "apache-beam 2.17.0 requires httplib2<=0.12.0,>=0.8, but you have httplib2 0.19.0 which is incompatible.\n",
      "apache-beam 2.17.0 requires pyarrow<0.16.0,>=0.15.1; python_version >= \"3.0\" or platform_system != \"Windows\", but you have pyarrow 3.0.0 which is incompatible.\u001b[0m\n",
      "Successfully installed alibi-0.5.6 beautifulsoup4-4.9.3 blis-0.7.4 catalogue-2.0.1 cymem-2.0.5 imageio-2.9.0 murmurhash-1.0.5 numpy-1.18.5 pathy-0.4.0 preshed-3.0.5 pydantic-1.7.3 scikit-image-0.18.1 shap-0.37.0 slicer-0.0.3 smart-open-3.0.0 soupsieve-2.2 spacy-3.0.3 spacy-legacy-3.0.1 spacy-lookups-data-1.0.0 srsly-2.4.0 thinc-8.0.1 tifffile-2021.2.26 typer-0.3.2 wasabi-0.8.2\n"
     ]
    }
   ],
   "source": [
    "!pip install alibi"
   ]
  },
  {
   "cell_type": "code",
   "execution_count": 2,
   "id": "figured-academy",
   "metadata": {},
   "outputs": [],
   "source": [
    "import alibi"
   ]
  },
  {
   "cell_type": "code",
   "execution_count": 3,
   "id": "amended-granny",
   "metadata": {},
   "outputs": [
    {
     "data": {
      "text/plain": [
       "['ALE',\n",
       " 'AnchorTabular',\n",
       " 'DistributedAnchorTabular',\n",
       " 'AnchorText',\n",
       " 'AnchorImage',\n",
       " 'CEM',\n",
       " 'CounterFactual',\n",
       " 'CounterFactualProto',\n",
       " 'KernelShap',\n",
       " 'TreeShap',\n",
       " 'plot_ale',\n",
       " 'IntegratedGradients']"
      ]
     },
     "execution_count": 3,
     "metadata": {},
     "output_type": "execute_result"
    }
   ],
   "source": [
    "alibi.explainers.__all__"
   ]
  },
  {
   "cell_type": "code",
   "execution_count": 4,
   "id": "comfortable-roommate",
   "metadata": {},
   "outputs": [
    {
     "data": {
      "text/plain": [
       "['linearity_measure', 'LinearityMeasure', 'TrustScore']"
      ]
     },
     "execution_count": 4,
     "metadata": {},
     "output_type": "execute_result"
    }
   ],
   "source": [
    "alibi.confidence.__all__"
   ]
  },
  {
   "cell_type": "code",
   "execution_count": null,
   "id": "structured-highland",
   "metadata": {},
   "outputs": [],
   "source": []
  }
 ],
 "metadata": {
  "environment": {
   "name": "tf2-gpu.2-1.mnightly-2021-02-12-debian-10-test",
   "type": "gcloud",
   "uri": "gcr.io/deeplearning-platform-release/tf2-gpu.2-1:mnightly-2021-02-12-debian-10-test"
  },
  "kernelspec": {
   "display_name": "Python [conda env:root] *",
   "language": "python",
   "name": "conda-root-py"
  },
  "language_info": {
   "codemirror_mode": {
    "name": "ipython",
    "version": 3
   },
   "file_extension": ".py",
   "mimetype": "text/x-python",
   "name": "python",
   "nbconvert_exporter": "python",
   "pygments_lexer": "ipython3",
   "version": "3.7.9"
  }
 },
 "nbformat": 4,
 "nbformat_minor": 5
}
